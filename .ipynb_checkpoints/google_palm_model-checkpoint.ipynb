{
 "cells": [
  {
   "cell_type": "code",
   "execution_count": 1,
   "id": "6489bd62",
   "metadata": {},
   "outputs": [],
   "source": [
    "import pandas as pd\n",
    "import numpy as np"
   ]
  },
  {
   "cell_type": "code",
   "execution_count": 2,
   "id": "55ceffef",
   "metadata": {},
   "outputs": [
    {
     "data": {
      "text/html": [
       "<div>\n",
       "<style scoped>\n",
       "    .dataframe tbody tr th:only-of-type {\n",
       "        vertical-align: middle;\n",
       "    }\n",
       "\n",
       "    .dataframe tbody tr th {\n",
       "        vertical-align: top;\n",
       "    }\n",
       "\n",
       "    .dataframe thead th {\n",
       "        text-align: right;\n",
       "    }\n",
       "</style>\n",
       "<table border=\"1\" class=\"dataframe\">\n",
       "  <thead>\n",
       "    <tr style=\"text-align: right;\">\n",
       "      <th></th>\n",
       "      <th>ID</th>\n",
       "      <th>Chapter</th>\n",
       "      <th>Verse</th>\n",
       "      <th>Shloka</th>\n",
       "      <th>Transliteration</th>\n",
       "      <th>HinMeaning</th>\n",
       "      <th>EngMeaning</th>\n",
       "      <th>WordMeaning</th>\n",
       "    </tr>\n",
       "  </thead>\n",
       "  <tbody>\n",
       "    <tr>\n",
       "      <th>0</th>\n",
       "      <td>BG1.1</td>\n",
       "      <td>1</td>\n",
       "      <td>1</td>\n",
       "      <td>धृतराष्ट्र उवाच |\\nधर्मक्षेत्रे कुरुक्षेत्रे स...</td>\n",
       "      <td>dhṛtarāṣṭra uvāca .\\ndharmakṣetre kurukṣetre s...</td>\n",
       "      <td>।।1.1।।धृतराष्ट्र ने कहा -- हे संजय ! धर्मभूमि...</td>\n",
       "      <td>1.1 Dhritarashtra said  What did my people and...</td>\n",
       "      <td>1.1 धर्मक्षेत्रे on the holy plain? कुरुक्षेत्...</td>\n",
       "    </tr>\n",
       "    <tr>\n",
       "      <th>1</th>\n",
       "      <td>BG1.2</td>\n",
       "      <td>1</td>\n",
       "      <td>2</td>\n",
       "      <td>सञ्जय उवाच |\\nदृष्ट्वा तु पाण्डवानीकं व्यूढं द...</td>\n",
       "      <td>sañjaya uvāca .\\ndṛṣṭvā tu pāṇḍavānīkaṃ vyūḍha...</td>\n",
       "      <td>।।1.2।।संजय ने कहा -- पाण्डव-सैन्य की व्यूह रच...</td>\n",
       "      <td>1.2. Sanjaya said  Having seen the army of the...</td>\n",
       "      <td>1.2 दृष्ट्वा having seen? तु indeed? पाण्डवानी...</td>\n",
       "    </tr>\n",
       "    <tr>\n",
       "      <th>2</th>\n",
       "      <td>BG1.3</td>\n",
       "      <td>1</td>\n",
       "      <td>3</td>\n",
       "      <td>पश्यैतां पाण्डुपुत्राणामाचार्य महतीं चमूम् |\\n...</td>\n",
       "      <td>paśyaitāṃ pāṇḍuputrāṇāmācārya mahatīṃ camūm .\\...</td>\n",
       "      <td>।।1.3।।हे आचार्य ! आपके बुद्धिमान शिष्य द्रुपद...</td>\n",
       "      <td>1.3. \"Behold, O Teacher! this mighty army of t...</td>\n",
       "      <td>1.3 पश्य behold? एताम् this? पाण्डुपुत्राणाम् ...</td>\n",
       "    </tr>\n",
       "    <tr>\n",
       "      <th>3</th>\n",
       "      <td>BG1.4</td>\n",
       "      <td>1</td>\n",
       "      <td>4</td>\n",
       "      <td>अत्र शूरा महेष्वासा भीमार्जुनसमा युधि |\\nयुयुध...</td>\n",
       "      <td>atra śūrā maheṣvāsā bhīmārjunasamā yudhi .\\nyu...</td>\n",
       "      <td>।।1.4।।इस सेना में महान् धनुर्धारी शूर योद्धा ...</td>\n",
       "      <td>1.4. Here are heroes, mighty archers, eal in b...</td>\n",
       "      <td>1.4 अत्र here? शूराः heroes? महेष्वासाः mighty...</td>\n",
       "    </tr>\n",
       "    <tr>\n",
       "      <th>4</th>\n",
       "      <td>BG1.5</td>\n",
       "      <td>1</td>\n",
       "      <td>5</td>\n",
       "      <td>धृष्टकेतुश्चेकितानः काशिराजश्च वीर्यवान् |\\nपु...</td>\n",
       "      <td>dhṛṣṭaketuścekitānaḥ kāśirājaśca vīryavān .\\np...</td>\n",
       "      <td>।।1.5।।धृष्टकेतु, चेकितान, बलवान काशिराज,  पुर...</td>\n",
       "      <td>1.5. \"Dhrishtaketu, chekitana and the valiant ...</td>\n",
       "      <td>1.5 धृष्टकेतुः Dhrishtaketu? चेकितानः Chekitan...</td>\n",
       "    </tr>\n",
       "  </tbody>\n",
       "</table>\n",
       "</div>"
      ],
      "text/plain": [
       "      ID  Chapter  Verse                                             Shloka  \\\n",
       "0  BG1.1        1      1  धृतराष्ट्र उवाच |\\nधर्मक्षेत्रे कुरुक्षेत्रे स...   \n",
       "1  BG1.2        1      2  सञ्जय उवाच |\\nदृष्ट्वा तु पाण्डवानीकं व्यूढं द...   \n",
       "2  BG1.3        1      3  पश्यैतां पाण्डुपुत्राणामाचार्य महतीं चमूम् |\\n...   \n",
       "3  BG1.4        1      4  अत्र शूरा महेष्वासा भीमार्जुनसमा युधि |\\nयुयुध...   \n",
       "4  BG1.5        1      5  धृष्टकेतुश्चेकितानः काशिराजश्च वीर्यवान् |\\nपु...   \n",
       "\n",
       "                                     Transliteration  \\\n",
       "0  dhṛtarāṣṭra uvāca .\\ndharmakṣetre kurukṣetre s...   \n",
       "1  sañjaya uvāca .\\ndṛṣṭvā tu pāṇḍavānīkaṃ vyūḍha...   \n",
       "2  paśyaitāṃ pāṇḍuputrāṇāmācārya mahatīṃ camūm .\\...   \n",
       "3  atra śūrā maheṣvāsā bhīmārjunasamā yudhi .\\nyu...   \n",
       "4  dhṛṣṭaketuścekitānaḥ kāśirājaśca vīryavān .\\np...   \n",
       "\n",
       "                                          HinMeaning  \\\n",
       "0  ।।1.1।।धृतराष्ट्र ने कहा -- हे संजय ! धर्मभूमि...   \n",
       "1  ।।1.2।।संजय ने कहा -- पाण्डव-सैन्य की व्यूह रच...   \n",
       "2  ।।1.3।।हे आचार्य ! आपके बुद्धिमान शिष्य द्रुपद...   \n",
       "3  ।।1.4।।इस सेना में महान् धनुर्धारी शूर योद्धा ...   \n",
       "4  ।।1.5।।धृष्टकेतु, चेकितान, बलवान काशिराज,  पुर...   \n",
       "\n",
       "                                          EngMeaning  \\\n",
       "0  1.1 Dhritarashtra said  What did my people and...   \n",
       "1  1.2. Sanjaya said  Having seen the army of the...   \n",
       "2  1.3. \"Behold, O Teacher! this mighty army of t...   \n",
       "3  1.4. Here are heroes, mighty archers, eal in b...   \n",
       "4  1.5. \"Dhrishtaketu, chekitana and the valiant ...   \n",
       "\n",
       "                                         WordMeaning  \n",
       "0  1.1 धर्मक्षेत्रे on the holy plain? कुरुक्षेत्...  \n",
       "1  1.2 दृष्ट्वा having seen? तु indeed? पाण्डवानी...  \n",
       "2  1.3 पश्य behold? एताम् this? पाण्डुपुत्राणाम् ...  \n",
       "3  1.4 अत्र here? शूराः heroes? महेष्वासाः mighty...  \n",
       "4  1.5 धृष्टकेतुः Dhrishtaketu? चेकितानः Chekitan...  "
      ]
     },
     "execution_count": 2,
     "metadata": {},
     "output_type": "execute_result"
    }
   ],
   "source": [
    "df = pd.read_csv(\"Bhagwad_Gita.csv\")\n",
    "df.head()"
   ]
  },
  {
   "cell_type": "code",
   "execution_count": 3,
   "id": "a5be14eb",
   "metadata": {},
   "outputs": [
    {
     "data": {
      "text/html": [
       "<div>\n",
       "<style scoped>\n",
       "    .dataframe tbody tr th:only-of-type {\n",
       "        vertical-align: middle;\n",
       "    }\n",
       "\n",
       "    .dataframe tbody tr th {\n",
       "        vertical-align: top;\n",
       "    }\n",
       "\n",
       "    .dataframe thead th {\n",
       "        text-align: right;\n",
       "    }\n",
       "</style>\n",
       "<table border=\"1\" class=\"dataframe\">\n",
       "  <thead>\n",
       "    <tr style=\"text-align: right;\">\n",
       "      <th></th>\n",
       "      <th>Chapter</th>\n",
       "      <th>Verse</th>\n",
       "      <th>Shloka</th>\n",
       "      <th>HinMeaning</th>\n",
       "      <th>EngMeaning</th>\n",
       "    </tr>\n",
       "  </thead>\n",
       "  <tbody>\n",
       "    <tr>\n",
       "      <th>0</th>\n",
       "      <td>1</td>\n",
       "      <td>1</td>\n",
       "      <td>धृतराष्ट्र उवाच |\\nधर्मक्षेत्रे कुरुक्षेत्रे स...</td>\n",
       "      <td>।।1.1।।धृतराष्ट्र ने कहा -- हे संजय ! धर्मभूमि...</td>\n",
       "      <td>1.1 Dhritarashtra said  What did my people and...</td>\n",
       "    </tr>\n",
       "    <tr>\n",
       "      <th>1</th>\n",
       "      <td>1</td>\n",
       "      <td>2</td>\n",
       "      <td>सञ्जय उवाच |\\nदृष्ट्वा तु पाण्डवानीकं व्यूढं द...</td>\n",
       "      <td>।।1.2।।संजय ने कहा -- पाण्डव-सैन्य की व्यूह रच...</td>\n",
       "      <td>1.2. Sanjaya said  Having seen the army of the...</td>\n",
       "    </tr>\n",
       "    <tr>\n",
       "      <th>2</th>\n",
       "      <td>1</td>\n",
       "      <td>3</td>\n",
       "      <td>पश्यैतां पाण्डुपुत्राणामाचार्य महतीं चमूम् |\\n...</td>\n",
       "      <td>।।1.3।।हे आचार्य ! आपके बुद्धिमान शिष्य द्रुपद...</td>\n",
       "      <td>1.3. \"Behold, O Teacher! this mighty army of t...</td>\n",
       "    </tr>\n",
       "    <tr>\n",
       "      <th>3</th>\n",
       "      <td>1</td>\n",
       "      <td>4</td>\n",
       "      <td>अत्र शूरा महेष्वासा भीमार्जुनसमा युधि |\\nयुयुध...</td>\n",
       "      <td>।।1.4।।इस सेना में महान् धनुर्धारी शूर योद्धा ...</td>\n",
       "      <td>1.4. Here are heroes, mighty archers, eal in b...</td>\n",
       "    </tr>\n",
       "    <tr>\n",
       "      <th>4</th>\n",
       "      <td>1</td>\n",
       "      <td>5</td>\n",
       "      <td>धृष्टकेतुश्चेकितानः काशिराजश्च वीर्यवान् |\\nपु...</td>\n",
       "      <td>।।1.5।।धृष्टकेतु, चेकितान, बलवान काशिराज,  पुर...</td>\n",
       "      <td>1.5. \"Dhrishtaketu, chekitana and the valiant ...</td>\n",
       "    </tr>\n",
       "  </tbody>\n",
       "</table>\n",
       "</div>"
      ],
      "text/plain": [
       "   Chapter  Verse                                             Shloka  \\\n",
       "0        1      1  धृतराष्ट्र उवाच |\\nधर्मक्षेत्रे कुरुक्षेत्रे स...   \n",
       "1        1      2  सञ्जय उवाच |\\nदृष्ट्वा तु पाण्डवानीकं व्यूढं द...   \n",
       "2        1      3  पश्यैतां पाण्डुपुत्राणामाचार्य महतीं चमूम् |\\n...   \n",
       "3        1      4  अत्र शूरा महेष्वासा भीमार्जुनसमा युधि |\\nयुयुध...   \n",
       "4        1      5  धृष्टकेतुश्चेकितानः काशिराजश्च वीर्यवान् |\\nपु...   \n",
       "\n",
       "                                          HinMeaning  \\\n",
       "0  ।।1.1।।धृतराष्ट्र ने कहा -- हे संजय ! धर्मभूमि...   \n",
       "1  ।।1.2।।संजय ने कहा -- पाण्डव-सैन्य की व्यूह रच...   \n",
       "2  ।।1.3।।हे आचार्य ! आपके बुद्धिमान शिष्य द्रुपद...   \n",
       "3  ।।1.4।।इस सेना में महान् धनुर्धारी शूर योद्धा ...   \n",
       "4  ।।1.5।।धृष्टकेतु, चेकितान, बलवान काशिराज,  पुर...   \n",
       "\n",
       "                                          EngMeaning  \n",
       "0  1.1 Dhritarashtra said  What did my people and...  \n",
       "1  1.2. Sanjaya said  Having seen the army of the...  \n",
       "2  1.3. \"Behold, O Teacher! this mighty army of t...  \n",
       "3  1.4. Here are heroes, mighty archers, eal in b...  \n",
       "4  1.5. \"Dhrishtaketu, chekitana and the valiant ...  "
      ]
     },
     "execution_count": 3,
     "metadata": {},
     "output_type": "execute_result"
    }
   ],
   "source": [
    "df = df.drop(['ID', 'Transliteration', 'WordMeaning'], axis='columns')\n",
    "df.head()"
   ]
  },
  {
   "cell_type": "code",
   "execution_count": 4,
   "id": "0eaf4a08",
   "metadata": {},
   "outputs": [
    {
     "data": {
      "text/plain": [
       "1"
      ]
     },
     "execution_count": 4,
     "metadata": {},
     "output_type": "execute_result"
    }
   ],
   "source": [
    "df['Chapter'][0]"
   ]
  },
  {
   "cell_type": "code",
   "execution_count": 5,
   "id": "4af44dc1",
   "metadata": {},
   "outputs": [
    {
     "data": {
      "text/plain": [
       "2"
      ]
     },
     "execution_count": 5,
     "metadata": {},
     "output_type": "execute_result"
    }
   ],
   "source": [
    "df['Verse'][1]"
   ]
  },
  {
   "cell_type": "code",
   "execution_count": 6,
   "id": "7f9cdc21",
   "metadata": {},
   "outputs": [
    {
     "data": {
      "text/plain": [
       "'सञ्जय उवाच |\\nदृष्ट्वा तु पाण्डवानीकं व्यूढं दुर्योधनस्तदा |\\nआचार्यमुपसंगम्य राजा वचनमब्रवीत् ||१-२||'"
      ]
     },
     "execution_count": 6,
     "metadata": {},
     "output_type": "execute_result"
    }
   ],
   "source": [
    "df['Shloka'][1]"
   ]
  },
  {
   "cell_type": "code",
   "execution_count": 7,
   "id": "64651a8d",
   "metadata": {},
   "outputs": [
    {
     "data": {
      "text/plain": [
       "'।।1.2।।संजय ने कहा -- पाण्डव-सैन्य की व्यूह रचना देखकर राजा दुर्योधन ने आचार्य द्रोण के पास जाकर ये वचन कहे।'"
      ]
     },
     "execution_count": 7,
     "metadata": {},
     "output_type": "execute_result"
    }
   ],
   "source": [
    "df['HinMeaning'][1]"
   ]
  },
  {
   "cell_type": "code",
   "execution_count": 8,
   "id": "bdf28c63",
   "metadata": {},
   "outputs": [
    {
     "data": {
      "text/plain": [
       "'1.2. Sanjaya said  Having seen the army of the Pandavas drawn up in battle-array,\\nKing Duryodhana then approached his teacher (Drona) and spoke these words.'"
      ]
     },
     "execution_count": 8,
     "metadata": {},
     "output_type": "execute_result"
    }
   ],
   "source": [
    "df['EngMeaning'][1]"
   ]
  },
  {
   "cell_type": "code",
   "execution_count": 9,
   "id": "65604398",
   "metadata": {},
   "outputs": [
    {
     "data": {
      "text/plain": [
       "array([ 1,  2,  3,  4,  5,  6,  7,  8,  9, 10, 11, 12, 13, 14, 15, 16, 17,\n",
       "       18], dtype=int64)"
      ]
     },
     "execution_count": 9,
     "metadata": {},
     "output_type": "execute_result"
    }
   ],
   "source": [
    "df['Chapter'].unique()"
   ]
  },
  {
   "cell_type": "code",
   "execution_count": 10,
   "id": "7cf1d4b5",
   "metadata": {},
   "outputs": [
    {
     "data": {
      "text/plain": [
       "array([ 1,  2,  3,  4,  5,  6,  7,  8,  9, 10, 11, 12, 13, 14, 15, 16, 17,\n",
       "       18, 19, 20, 21, 22, 23, 24, 25, 26, 27, 28, 29, 30, 31, 32, 33, 34,\n",
       "       35, 36, 37, 38, 39, 40, 41, 42, 43, 44, 45, 46, 47, 48, 49, 50, 51,\n",
       "       52, 53, 54, 55, 56, 57, 58, 59, 60, 61, 62, 63, 64, 65, 66, 67, 68,\n",
       "       69, 70, 71, 72, 73, 74, 75, 76, 77, 78], dtype=int64)"
      ]
     },
     "execution_count": 10,
     "metadata": {},
     "output_type": "execute_result"
    }
   ],
   "source": [
    "df['Verse'].unique()"
   ]
  },
  {
   "cell_type": "code",
   "execution_count": 12,
   "id": "79f22557",
   "metadata": {},
   "outputs": [],
   "source": [
    "from langchain import LLMChain, PromptTemplate\n",
    "from langchain.llms import GooglePalm\n",
    "from dotenv import load_dotenv\n",
    "import os\n",
    "\n",
    "# Load environment variables\n",
    "load_dotenv()\n",
    "api_key = os.getenv('API_KEY')\n",
    "if not api_key:\n",
    "    raise ValueError(\"API_KEY not found in environment variables.\")\n",
    "\n",
    "llm = GooglePalm(google_api_key=api_key, temperature=0.1)"
   ]
  },
  {
   "cell_type": "code",
   "execution_count": 13,
   "id": "3233ca0f",
   "metadata": {},
   "outputs": [
    {
     "name": "stderr",
     "output_type": "stream",
     "text": [
      "C:\\Users\\mansh\\AppData\\Local\\Programs\\Python\\Python311\\Lib\\site-packages\\langchain_core\\_api\\deprecation.py:119: LangChainDeprecationWarning: The class `LLMChain` was deprecated in LangChain 0.1.17 and will be removed in 0.3.0. Use RunnableSequence, e.g., `prompt | llm` instead.\n",
      "  warn_deprecated(\n"
     ]
    }
   ],
   "source": [
    "prompt_template = \"\"\"\n",
    "You are a helpful assistant trained on the Bhagavad Gita. Use the English meanings of the verses to answer the following question:\n",
    "{input}\n",
    "\n",
    "Provide answers that relate to the teachings of the Bhagavad Gita and also address any concerns related to mental well-being.\n",
    "\n",
    "In the answer try to provide as much text as possible from \"{input}\" in the source document context without making much changes. \n",
    "If the answer is not found in the context, kindly state \"I am unable to find answer of this query from Bhagwad Gita.\".\n",
    "\"\"\"\n",
    "\n",
    "prompt = PromptTemplate(input_variables=[\"input\"], template=prompt_template)\n",
    "\n",
    "# Create the LangChain\n",
    "chain = LLMChain(llm=llm, prompt=prompt)"
   ]
  },
  {
   "cell_type": "code",
   "execution_count": 14,
   "id": "2c59d3d9",
   "metadata": {},
   "outputs": [],
   "source": [
    "def chatbot_response(query):\n",
    "    # Generate a response using the model\n",
    "    response = chain.run(input=query)\n",
    "    return {\"Response\": response}\n"
   ]
  },
  {
   "cell_type": "code",
   "execution_count": 15,
   "id": "914698e8",
   "metadata": {},
   "outputs": [
    {
     "name": "stderr",
     "output_type": "stream",
     "text": [
      "C:\\Users\\mansh\\AppData\\Local\\Programs\\Python\\Python311\\Lib\\site-packages\\langchain_core\\_api\\deprecation.py:119: LangChainDeprecationWarning: The method `Chain.run` was deprecated in langchain 0.1.0 and will be removed in 0.3.0. Use invoke instead.\n",
      "  warn_deprecated(\n"
     ]
    },
    {
     "name": "stdout",
     "output_type": "stream",
     "text": [
      "Model Response:\n",
      "**I am feeling sad.**\n",
      "\n",
      "> **BG 2.64**\n",
      "\n",
      "> \"O son of Kunti, the non-attachment to the results of activities is called yoga. By yoga, one attains the Supreme Brahman, which is eternal, knowledge, and bliss.\"\n",
      "\n",
      "The Bhagavad Gita teaches that we should not be attached to the results of our actions. This means that we should not be attached to whether or not we succeed or fail, or whether or not we are praised or criticized. When we are not attached to the results of our actions, we are free from the cycle of suffering.\n",
      "\n",
      "When we are sad, it is often because we are attached to something that we have lost or that we do not have. The Bhagavad Gita teaches us that we should not be attached to anything in this world, because everything is impermanent. Everything that we have or that we love will eventually be taken away from us.\n",
      "\n",
      "The only thing that is permanent is the soul. The soul is eternal and unchanging. When we are attached to the soul, we are free from suffering.\n",
      "\n",
      "So, if you are feeling sad, try to remember that everything is impermanent. Nothing lasts forever. The only thing that is permanent is the soul. When you are attached to the soul, you are free from suffering.\n"
     ]
    }
   ],
   "source": [
    "user_query = \"I am feeling sad.\"\n",
    "response = chatbot_response(user_query)\n",
    "\n",
    "# Print the response\n",
    "print(\"Model Response:\")\n",
    "print(response['Response'])"
   ]
  },
  {
   "cell_type": "code",
   "execution_count": null,
   "id": "2ebf5a96",
   "metadata": {},
   "outputs": [],
   "source": []
  }
 ],
 "metadata": {
  "kernelspec": {
   "display_name": "Python 3 (ipykernel)",
   "language": "python",
   "name": "python3"
  },
  "language_info": {
   "codemirror_mode": {
    "name": "ipython",
    "version": 3
   },
   "file_extension": ".py",
   "mimetype": "text/x-python",
   "name": "python",
   "nbconvert_exporter": "python",
   "pygments_lexer": "ipython3",
   "version": "3.11.0"
  }
 },
 "nbformat": 4,
 "nbformat_minor": 5
}
